{
 "cells": [
  {
   "cell_type": "code",
   "execution_count": 1,
   "metadata": {},
   "outputs": [],
   "source": [
    "HSMPY_PATH = r'C:\\Users\\MR068144\\Downloads\\Python Scripts'\n",
    "# importing required packages\n",
    "import sys, os, arcpy, csv, json, math\n",
    "sys.path.append(HSMPY_PATH)\n",
    "import hsmpy\n",
    "import arcpy\n",
    "import shutil\n",
    "import os\n",
    "\n",
    "Years = range(2017,2018)\n",
    "IRISPath = r'\\\\CHCFPP01\\Proj\\ILDOT\\650511SAFETYPROGRAM\\7_BaseData\\Master_BaseFiles_Data\\5.0_Roadway_Layer\\IRIS'\n",
    "IRISPath = r'C:\\Users\\mr068144\\Downloads\\IRIS\\IDOT Zip Files'\n",
    "IRIS_Route = {y:os.path.join(IRISPath,'HWY'+str(y)+'_route.shp') for y in Years}\n",
    "IRIS_Tab   = {y:os.path.join(IRISPath,'HWY'+str(y)+'_table.dbf') for y in Years}\n",
    "WDir = r'C:\\Users\\mr068144\\Downloads\\Curvature'\n",
    "#WDir = r'\\\\CHCFPP01\\Proj\\ILDOT\\650511SAFETYPROGRAM\\7_BaseData\\Master_BaseFiles_Data\\8.0_Curves_Layer'"
   ]
  },
  {
   "cell_type": "code",
   "execution_count": null,
   "metadata": {},
   "outputs": [],
   "source": [
    "for year in range(2011,2017):\n",
    "    print(year)\n",
    "    FN = 'Curves_' + str(year) + '.mdb'\n",
    "    MDB = os.path.join(WDir,FN)\n",
    "    Overlay_Table = os.path.join(MDB , 'HWY' + str(year) + '_HCurve_diss')\n",
    "    OverlayLayer = hsmpy.common.CreateOutPath(MainFile = MDB + '\\\\HWY' + str(year),appendix='HCurve1',Extension='')\n",
    "    IRIS_Routes = IRIS_Route[year]\n",
    "    F = [f.name for f in arcpy.ListFields(Overlay_Table) if not f.required and not f.name in ['INVENTORY','BEG_STA','END_STA','CMF_CH18']]\n",
    "    hsmpy.network.CreateRouteEventLayer(Sites_Routes=IRIS_Routes,AttTable=Overlay_Table,\n",
    "                                        BMP='BEG_STA',EMP='END_STA',RouteID='INVENTORY',Fields=F,\n",
    "                                        Output=OverlayLayer)\n"
   ]
  },
  {
   "cell_type": "code",
   "execution_count": 2,
   "metadata": {},
   "outputs": [],
   "source": [
    "subp = []\n",
    "#Years = range(2005,2017)\n",
    "for year in Years:\n",
    "    FN = 'Curves_' + str(year) + '.mdb'\n",
    "    MDB = os.path.join(WDir,FN)\n",
    "    try: os.remove(MDB)\n",
    "    except: pass\n",
    "    try: arcpy.CreatePersonalGDB_management(out_folder_path=WDir,out_name=FN)\n",
    "    except: pass   \n",
    "    CurveTable = hsmpy.common.CreateOutPath(MainFile = MDB + '\\\\Curves_Table',appendix=str(year),Extension='')\n",
    "    CurveLayer = hsmpy.common.CreateOutPath(MainFile = MDB + '\\\\Curves_Seg',appendix=str(year),Extension='')\n",
    "    OutDir = os.path.dirname(IRIS_Route[year])\n",
    "    OverlayTable = hsmpy.common.CreateOutPath(MainFile = MDB + '\\\\HWY' + str(year) + '_table',appendix='HCurve',Extension='')\n",
    "    OverlayLayer = hsmpy.common.CreateOutPath(MainFile = MDB + '\\\\HWY' + str(year),appendix='HCurve',Extension='')\n",
    "    subp.append(hsmpy.network.CON_ExtractCurves(WDir,HSMPY_PATH,\n",
    "                                                IRIS_Route[year],IRIS_Tab[year],\n",
    "                                                CurveTable,CurveLayer,\n",
    "                                                OverlayTable,OverlayLayer,\n",
    "                                                year))"
   ]
  },
  {
   "cell_type": "code",
   "execution_count": 10,
   "metadata": {},
   "outputs": [],
   "source": [
    "import subprocess\n",
    "subp = []\n",
    "for y in [2011]:\n",
    "    subp.append(subprocess.Popen([sys.executable, WDir + r'\\CurveExtract_' + str(y)+ '.py'],shell=False,creationflags = subprocess.CREATE_NEW_CONSOLE))"
   ]
  }
 ],
 "metadata": {
  "kernelspec": {
   "display_name": "Python 2",
   "language": "python",
   "name": "python2"
  },
  "language_info": {
   "codemirror_mode": {
    "name": "ipython",
    "version": 2
   },
   "file_extension": ".py",
   "mimetype": "text/x-python",
   "name": "python",
   "nbconvert_exporter": "python",
   "pygments_lexer": "ipython2",
   "version": "2.7.14"
  }
 },
 "nbformat": 4,
 "nbformat_minor": 2
}
