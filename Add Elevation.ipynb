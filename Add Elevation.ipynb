{
 "cells": [
  {
   "cell_type": "code",
   "execution_count": 1,
   "metadata": {},
   "outputs": [],
   "source": [
    "IRIS = r'C:\\Users\\mr068144\\Downloads\\IRIS\\IDOT Zip Files\\HWY2015_route.shp'\n",
    "HSMPY_PATH = r'C:\\Users\\MR068144\\Downloads\\Python Scripts'\n",
    "# importing required packages\n",
    "import sys, os, arcpy, csv, json, math\n",
    "sys.path.append(HSMPY_PATH)\n",
    "import hsmpy\n",
    "import arcpy\n",
    "import shutil\n",
    "import os\n",
    "import json\n",
    "import pandas as pd\n",
    "import numpy as np\n",
    "IRIS_P = r'C:\\Users\\mr068144\\Downloads\\Curvature\\HWY2015_route_P.shp'\n",
    "IRIS_Z = r'C:\\Users\\mr068144\\Downloads\\Curvature\\HWY2015_route_Z.shp'\n",
    "IRIS_N = r'C:\\Users\\mr068144\\Downloads\\Curvature\\HWY2015_route_N.shp'\n",
    "DEM = r'C:/Users/mr068144/Downloads/IL_Dem_30m/il_dem_30m'"
   ]
  },
  {
   "cell_type": "code",
   "execution_count": 4,
   "metadata": {},
   "outputs": [
    {
     "ename": "AttributeError",
     "evalue": "'module' object has no attribute 'ExtractValuesToPoints_sa'",
     "output_type": "error",
     "traceback": [
      "\u001b[1;31m---------------------------------------------------------------------------\u001b[0m",
      "\u001b[1;31mAttributeError\u001b[0m                            Traceback (most recent call last)",
      "\u001b[1;32m<ipython-input-4-921c3b466b13>\u001b[0m in \u001b[0;36m<module>\u001b[1;34m()\u001b[0m\n\u001b[0;32m      1\u001b[0m \u001b[0marcpy\u001b[0m\u001b[1;33m.\u001b[0m\u001b[0mFeatureVerticesToPoints_management\u001b[0m \u001b[1;33m(\u001b[0m\u001b[0min_features\u001b[0m\u001b[1;33m=\u001b[0m\u001b[0mIRIS\u001b[0m\u001b[1;33m,\u001b[0m \u001b[0mout_feature_class\u001b[0m\u001b[1;33m=\u001b[0m\u001b[0mIRIS_P\u001b[0m\u001b[1;33m,\u001b[0m \u001b[0mpoint_location\u001b[0m\u001b[1;33m=\u001b[0m\u001b[1;34m'ALL'\u001b[0m\u001b[1;33m)\u001b[0m\u001b[1;33m\u001b[0m\u001b[0m\n\u001b[1;32m----> 2\u001b[1;33m \u001b[0marcpy\u001b[0m\u001b[1;33m.\u001b[0m\u001b[0mExtractValuesToPoints_sa\u001b[0m\u001b[1;33m(\u001b[0m\u001b[0mIRIS_P\u001b[0m\u001b[1;33m,\u001b[0m \u001b[0mDEM\u001b[0m\u001b[1;33m,\u001b[0m \u001b[0mIRIS_Z\u001b[0m\u001b[1;33m,\u001b[0m \u001b[1;34m\"INTERPOLATE\"\u001b[0m\u001b[1;33m,\u001b[0m \u001b[1;34m\"VALUE_ONLY\"\u001b[0m\u001b[1;33m)\u001b[0m\u001b[1;33m\u001b[0m\u001b[0m\n\u001b[0m\u001b[0;32m      3\u001b[0m \u001b[0mPD\u001b[0m \u001b[1;33m=\u001b[0m \u001b[1;33m{\u001b[0m\u001b[0mr\u001b[0m\u001b[1;33m.\u001b[0m\u001b[0mgetValue\u001b[0m\u001b[1;33m(\u001b[0m\u001b[1;34m'INVENTORY'\u001b[0m\u001b[1;33m)\u001b[0m\u001b[1;33m:\u001b[0m\u001b[0mr\u001b[0m\u001b[1;33m.\u001b[0m\u001b[0mgetValue\u001b[0m\u001b[1;33m(\u001b[0m\u001b[1;34m'Shape'\u001b[0m\u001b[1;33m)\u001b[0m \u001b[1;32mfor\u001b[0m \u001b[0mr\u001b[0m \u001b[1;32min\u001b[0m \u001b[0marcpy\u001b[0m\u001b[1;33m.\u001b[0m\u001b[0mSearchCursor\u001b[0m\u001b[1;33m(\u001b[0m\u001b[0mIRIS\u001b[0m\u001b[1;33m)\u001b[0m\u001b[1;33m}\u001b[0m\u001b[1;33m\u001b[0m\u001b[0m\n",
      "\u001b[1;31mAttributeError\u001b[0m: 'module' object has no attribute 'ExtractValuesToPoints_sa'"
     ]
    }
   ],
   "source": [
    "arcpy.FeatureVerticesToPoints_management (in_features=IRIS, out_feature_class=IRIS_P, point_location='ALL')\n",
    "arcpy.gp.ExtractValuesToPoints_sa(IRIS_P, DEM, IRIS_Z, \"INTERPOLATE\", \"VALUE_ONLY\")\n",
    "PD = {r.getValue('INVENTORY'):r.getValue('Shape') for r in arcpy.SearchCursor(IRIS)}\n"
   ]
  },
  {
   "cell_type": "code",
   "execution_count": 4,
   "metadata": {},
   "outputs": [],
   "source": [
    "PD = {r.getValue('INVENTORY'):r.getValue('Shape') for r in arcpy.SearchCursor(IRIS)}"
   ]
  },
  {
   "cell_type": "code",
   "execution_count": 9,
   "metadata": {},
   "outputs": [
    {
     "ename": "KeyboardInterrupt",
     "evalue": "",
     "output_type": "error",
     "traceback": [
      "\u001b[1;31m---------------------------------------------------------------------------\u001b[0m",
      "\u001b[1;31mKeyboardInterrupt\u001b[0m                         Traceback (most recent call last)",
      "\u001b[1;32m<ipython-input-9-5ceda9b4801a>\u001b[0m in \u001b[0;36m<module>\u001b[1;34m()\u001b[0m\n\u001b[1;32m----> 1\u001b[1;33m \u001b[0marcpy\u001b[0m\u001b[1;33m.\u001b[0m\u001b[0mCheckOutExtension\u001b[0m\u001b[1;33m(\u001b[0m\u001b[1;34m\"3D\"\u001b[0m\u001b[1;33m)\u001b[0m\u001b[1;33m\u001b[0m\u001b[0m\n\u001b[0m\u001b[0;32m      2\u001b[0m \u001b[0marcpy\u001b[0m\u001b[1;33m.\u001b[0m\u001b[0mInterpolateShape_3d\u001b[0m\u001b[1;33m(\u001b[0m\u001b[0mDEM\u001b[0m\u001b[1;33m,\u001b[0m \u001b[0mIRIS\u001b[0m\u001b[1;33m,\u001b[0m \u001b[0mIRIS_N\u001b[0m\u001b[1;33m,\u001b[0m \u001b[0msample_distance\u001b[0m\u001b[1;33m=\u001b[0m\u001b[1;34m\"800\"\u001b[0m\u001b[1;33m,\u001b[0m \u001b[0mz_factor\u001b[0m\u001b[1;33m=\u001b[0m\u001b[1;34m\"1\"\u001b[0m\u001b[1;33m,\u001b[0m \u001b[0mmethod\u001b[0m\u001b[1;33m=\u001b[0m\u001b[1;34m\"BILINEAR\"\u001b[0m\u001b[1;33m,\u001b[0m \u001b[0mvertices_only\u001b[0m\u001b[1;33m=\u001b[0m\u001b[1;34m\"VERTICES_ONLY\"\u001b[0m\u001b[1;33m,\u001b[0m \u001b[0mpyramid_level_resolution\u001b[0m\u001b[1;33m=\u001b[0m\u001b[1;34m\"0\"\u001b[0m\u001b[1;33m)\u001b[0m\u001b[1;33m\u001b[0m\u001b[0m\n",
      "\u001b[1;32mC:\\Program Files (x86)\\ArcGIS\\Desktop10.5\\ArcPy\\arcpy\\__init__.py\u001b[0m in \u001b[0;36mCheckOutExtension\u001b[1;34m(extension_code)\u001b[0m\n\u001b[0;32m    484\u001b[0m \u001b[1;33m\u001b[0m\u001b[0m\n\u001b[0;32m    485\u001b[0m         * StreetMap:   StreetMap   Licensing and extensions\"\"\"\n\u001b[1;32m--> 486\u001b[1;33m     \u001b[1;32mreturn\u001b[0m \u001b[0mgp\u001b[0m\u001b[1;33m.\u001b[0m\u001b[0mcheckOutExtension\u001b[0m\u001b[1;33m(\u001b[0m\u001b[0mextension_code\u001b[0m\u001b[1;33m)\u001b[0m\u001b[1;33m\u001b[0m\u001b[0m\n\u001b[0m\u001b[0;32m    487\u001b[0m \u001b[1;33m\u001b[0m\u001b[0m\n\u001b[0;32m    488\u001b[0m \u001b[1;32mdef\u001b[0m \u001b[0mCheckInExtension\u001b[0m\u001b[1;33m(\u001b[0m\u001b[0mextension_code\u001b[0m\u001b[1;33m)\u001b[0m\u001b[1;33m:\u001b[0m\u001b[1;33m\u001b[0m\u001b[0m\n",
      "\u001b[1;32mC:\\Program Files (x86)\\ArcGIS\\Desktop10.5\\ArcPy\\arcpy\\geoprocessing\\_base.py\u001b[0m in \u001b[0;36mcheckOutExtension\u001b[1;34m(self, *args)\u001b[0m\n\u001b[0;32m    199\u001b[0m         \u001b[1;32mfrom\u001b[0m \u001b[1;33m.\u001b[0m\u001b[1;33m.\u001b[0m\u001b[0marcobjects\u001b[0m\u001b[1;33m.\u001b[0m\u001b[0marcobjectconversion\u001b[0m \u001b[1;32mimport\u001b[0m \u001b[0mconvertArcObjectToPythonObject\u001b[0m\u001b[1;33m\u001b[0m\u001b[0m\n\u001b[0;32m    200\u001b[0m         return convertArcObjectToPythonObject(\n\u001b[1;32m--> 201\u001b[1;33m                     self._gp.CheckoutExtension(*gp_fixargs(args, True)))\n\u001b[0m\u001b[0;32m    202\u001b[0m     \u001b[1;32mdef\u001b[0m \u001b[0mcheckInExtension\u001b[0m\u001b[1;33m(\u001b[0m\u001b[0mself\u001b[0m\u001b[1;33m,\u001b[0m \u001b[1;33m*\u001b[0m\u001b[0margs\u001b[0m\u001b[1;33m)\u001b[0m\u001b[1;33m:\u001b[0m\u001b[1;33m\u001b[0m\u001b[0m\n\u001b[0;32m    203\u001b[0m         \u001b[1;34m\"\"\"GP function CheckinExtension\"\"\"\u001b[0m\u001b[1;33m\u001b[0m\u001b[0m\n",
      "\u001b[1;32mC:\\Program Files (x86)\\ArcGIS\\Desktop10.5\\ArcPy\\arcpy\\arcobjects\\arcobjectconversion.py\u001b[0m in \u001b[0;36mconvertArcObjectToPythonObject\u001b[1;34m(obj)\u001b[0m\n\u001b[0;32m     79\u001b[0m         \u001b[1;32mpass\u001b[0m\u001b[1;33m\u001b[0m\u001b[0m\n\u001b[0;32m     80\u001b[0m \u001b[1;33m\u001b[0m\u001b[0m\n\u001b[1;32m---> 81\u001b[1;33m     \u001b[1;32mif\u001b[0m \u001b[0misinstance\u001b[0m\u001b[1;33m(\u001b[0m\u001b[0mobj\u001b[0m\u001b[1;33m,\u001b[0m \u001b[1;33m(\u001b[0m\u001b[0mint\u001b[0m\u001b[1;33m,\u001b[0m \u001b[0mlong\u001b[0m\u001b[1;33m,\u001b[0m \u001b[0mfloat\u001b[0m\u001b[1;33m,\u001b[0m \u001b[0mcomplex\u001b[0m\u001b[1;33m,\u001b[0m \u001b[0mbasestring\u001b[0m\u001b[1;33m)\u001b[0m\u001b[1;33m)\u001b[0m\u001b[1;33m:\u001b[0m\u001b[1;33m\u001b[0m\u001b[0m\n\u001b[0m\u001b[0;32m     82\u001b[0m         \u001b[1;32mreturn\u001b[0m \u001b[0mobj\u001b[0m\u001b[1;33m\u001b[0m\u001b[0m\n\u001b[0;32m     83\u001b[0m     \u001b[1;32melif\u001b[0m \u001b[0misinstance\u001b[0m\u001b[1;33m(\u001b[0m\u001b[0mobj\u001b[0m\u001b[1;33m,\u001b[0m \u001b[1;33m(\u001b[0m\u001b[0mlist\u001b[0m\u001b[1;33m,\u001b[0m \u001b[0mtuple\u001b[0m\u001b[1;33m)\u001b[0m\u001b[1;33m)\u001b[0m\u001b[1;33m:\u001b[0m\u001b[1;33m\u001b[0m\u001b[0m\n",
      "\u001b[1;31mKeyboardInterrupt\u001b[0m: "
     ]
    }
   ],
   "source": [
    "arcpy.CheckOutExtension(\"3D\")\n",
    "arcpy.InterpolateShape_3d(DEM, IRIS, IRIS_N, sample_distance=\"800\", z_factor=\"1\", method=\"BILINEAR\", vertices_only=\"VERTICES_ONLY\", pyramid_level_resolution=\"0\")"
   ]
  }
 ],
 "metadata": {
  "kernelspec": {
   "display_name": "Python 2",
   "language": "python",
   "name": "python2"
  },
  "language_info": {
   "codemirror_mode": {
    "name": "ipython",
    "version": 2
   },
   "file_extension": ".py",
   "mimetype": "text/x-python",
   "name": "python",
   "nbconvert_exporter": "python",
   "pygments_lexer": "ipython2",
   "version": "2.7.13"
  }
 },
 "nbformat": 4,
 "nbformat_minor": 2
}
