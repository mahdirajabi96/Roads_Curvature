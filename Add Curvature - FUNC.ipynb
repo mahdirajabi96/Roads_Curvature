{
 "cells": [
  {
   "cell_type": "code",
   "execution_count": 2,
   "metadata": {},
   "outputs": [],
   "source": [
    "IRIS = r'C:\\Users\\mr068144\\Downloads\\IRIS\\IDOT Zip Files\\HWY2016_route.shp'\n",
    "Path = r'C:\\Users\\mr068144\\Downloads\\Curvature'\n",
    "HSMPY_PATH = r'C:\\Users\\MR068144\\Downloads\\Python Scripts'\n",
    "# importing required packages\n",
    "import sys, os, arcpy, csv, json, math\n",
    "sys.path.append(HSMPY_PATH)\n",
    "import hsmpy\n",
    "import arcpy\n",
    "import shutil\n",
    "import os\n",
    "import json\n",
    "import pandas as pd\n",
    "import numpy as np\n",
    "import matplotlib.pyplot as plt\n",
    "GDB = os.path.join(Path,'Scratch.gdb')\n",
    "IRIS_N = GDB + '\\\\HorCurves2016'"
   ]
  },
  {
   "cell_type": "code",
   "execution_count": 5,
   "metadata": {},
   "outputs": [
    {
     "data": {
      "text/plain": [
       "<Result 'C:\\\\Users\\\\mr068144\\\\Downloads\\\\Curvature\\\\Scratch.gdb'>"
      ]
     },
     "execution_count": 5,
     "metadata": {},
     "output_type": "execute_result"
    }
   ],
   "source": [
    "if os.path.exists(os.path.join(Path,'Scratch.gdb')):\n",
    "    shutil.rmtree(os.path.join(Path,'Scratch.gdb'))\n",
    "arcpy.CreateFileGDB_management(out_folder_path=Path,out_name='Scratch')"
   ]
  },
  {
   "cell_type": "code",
   "execution_count": 6,
   "metadata": {},
   "outputs": [],
   "source": [
    "def progressBar(value, endvalue, bar_length=20):\n",
    "        percent = float(value) / endvalue\n",
    "        sys.stdout.write(\"\\r{}%\".format(int(round(percent * 100))))\n",
    "        sys.stdout.flush()"
   ]
  },
  {
   "cell_type": "code",
   "execution_count": 7,
   "metadata": {},
   "outputs": [],
   "source": [
    "def AddMidPoints(l,desd):\n",
    "    pntl = [arcpy.Point(X = l[0][0],Y=l[0][1],Z=0,M=l[0][3])]\n",
    "    for p in l[1:]:\n",
    "        curpnt = arcpy.Point(X = p[0],Y=p[1],Z=0,M=p[3])\n",
    "        curd = arcpy.PointGeometry(pntl[-1]).distanceTo(curpnt)\n",
    "        if curd <= desd:\n",
    "            pntl.append(curpnt)\n",
    "        else:\n",
    "            n = int(curd/desd)+1\n",
    "            delta = curd/n\n",
    "            pl = arcpy.Polyline(arcpy.Array([pntl[-1],curpnt]))\n",
    "            for j in range(1,n):\n",
    "                if j*delta<curd:\n",
    "                    midpg = pl.positionAlongLine(j*delta)\n",
    "                    m = float((curpnt.M - pntl[-1].M))/n*j + pntl[-1].M\n",
    "                    midp = arcpy.Point(midpg.firstPoint.X,midpg.firstPoint.Y,0,m)\n",
    "                    pntl.append(midp)\n",
    "            pntl.append(curpnt)\n",
    "    return(pntl)"
   ]
  },
  {
   "cell_type": "code",
   "execution_count": 8,
   "metadata": {},
   "outputs": [],
   "source": [
    "def FindCurves(pl,DegMin,RMax,RMin,LenMin):\n",
    "    import json\n",
    "    Curve = []\n",
    "    pntl = json.loads(pl.JSON)['paths'][0]\n",
    "    CD = HorCurvature(pl)\n",
    "    flag = False\n",
    "    for i in range(len(CD['Radius'])):\n",
    "        if abs(CD['Radius'][i]) > DegMin:\n",
    "            if not flag:\n",
    "                start = CD['Milepost'][i]\n",
    "                flag = True\n",
    "                R = [pntl[i-1],pntl[i]]\n",
    "            else:\n",
    "                if CD['Radius'][i]*CD['Radius'][i-1]>0:\n",
    "                    R.append(pntl[i])\n",
    "                else:\n",
    "                    end = (CD['Milepost'][i-1] + CD['Milepost'][i])/2.0\n",
    "                    R.append(pntl[i])\n",
    "                    cirD = CircleFitting(R)\n",
    "                    cirD['Radius'] = math.copysign(cirD['Radius'],CD['Radius'][i-1])\n",
    "                    if abs(cirD['Radius'])<RMax and abs(cirD['Radius'])>RMin and (end-start)>LenMin:\n",
    "                        Curve.append([start,end,cirD['Radius'],cirD['Center'][0],cirD['Center'][1]])\n",
    "                    start = end\n",
    "                    flag = True\n",
    "                    R = [pntl[i-1],pntl[i]]\n",
    "        else:\n",
    "            if flag:\n",
    "                end = CD['Milepost'][i]\n",
    "                R.append(pntl[i])\n",
    "                cirD = CircleFitting(R)\n",
    "                cirD['Radius'] = math.copysign(cirD['Radius'],CD['Radius'][i-1])\n",
    "                if abs(cirD['Radius'])<RMax and abs(cirD['Radius'])>RMin and (end-start)>LenMin:\n",
    "                    Curve.append([start,end,cirD['Radius'],cirD['Center'][0],cirD['Center'][1]])\n",
    "                flag = False\n",
    "    return(Curve)"
   ]
  },
  {
   "cell_type": "code",
   "execution_count": 9,
   "metadata": {},
   "outputs": [],
   "source": [
    "def CircleFitting(l):\n",
    "    from scipy import optimize\n",
    "    import numpy\n",
    "    def calc_R(xc, yc):\n",
    "        return numpy.sqrt((x-xc)**2 + (y-yc)**2)\n",
    "    def f_2(c):\n",
    "        Ri = calc_R(*c)\n",
    "        return Ri - Ri.mean()\n",
    "    x = numpy.array([i[0] for i in l])\n",
    "    y = numpy.array([i[1] for i in l])\n",
    "    x_m = sum(x)/max(len(x),1)\n",
    "    y_m = sum(y)/max(len(y),1)\n",
    "    center_estimate = x_m, y_m\n",
    "    center_2, ier = optimize.leastsq(f_2, center_estimate)\n",
    "    xc_2, yc_2 = center_2\n",
    "    Ri_2       = calc_R(*center_2)\n",
    "    R_2        = Ri_2.mean()\n",
    "    residu_2   = sum((Ri_2 - R_2)**2)\n",
    "    return({'Radius':R_2,'Center':[xc_2, yc_2]})"
   ]
  },
  {
   "cell_type": "code",
   "execution_count": 10,
   "metadata": {},
   "outputs": [],
   "source": [
    "def HorCurvature(Shape):\n",
    "    import re\n",
    "    import math\n",
    "    import arcpy\n",
    "    from math import acos\n",
    "    from numpy.linalg import norm\n",
    "    import numpy\n",
    "    import json\n",
    "    Inf = 52800 \n",
    "    def findangle(p1, p2,p3):\n",
    "        A = np.array(p1)\n",
    "        B = np.array(p2)\n",
    "        C = np.array(p3)\n",
    "        v1 = B - A\n",
    "        v2 = C - B\n",
    "        def unit_vector(vector):\n",
    "            return vector / np.linalg.norm(vector)\n",
    "        v1_u = unit_vector(v1)\n",
    "        v2_u = unit_vector(v2)\n",
    "        return(np.degrees(np.arctan2(v2_u[1], v2_u[0])-np.arctan2(v1_u[1], v1_u[0])))\n",
    "    def Radius(P1,P2,P3):\n",
    "        Inf = 52800\n",
    "        x1 = P1[0];x2 = P2[0];x3 = P3[0]\n",
    "        y1 = P1[1];y2 = P2[1];y3 = P3[1]\n",
    "        if y1==y2 and y2==y3:\n",
    "            R = Inf\n",
    "        elif y1==y2 and y2<>y3:\n",
    "            m2 = -(x3-x2)/(y3-y2)\n",
    "            xm1 = (x1+x2)/2\n",
    "            ym1 = (y1+y2)/2\n",
    "            xm2 = (x3+x2)/2\n",
    "            ym2 = (y3+y2)/2\n",
    "            xc = xm1\n",
    "            yc = m2*(xc-xm2)+ym2\n",
    "            R  = math.sqrt((xc-x1)**2+(yc-y1)**2)\n",
    "            R = min(R,Inf)\n",
    "            R = math.copysign(R,m2)\n",
    "        elif y2==y3 and y1<>y2:\n",
    "            m1 = -(x2-x1)/(y2-y1)\n",
    "            xm1 = (x1+x2)/2\n",
    "            ym1 = (y1+y2)/2\n",
    "            xm2 = (x3+x2)/2\n",
    "            ym2 = (y3+y2)/2\n",
    "            xc = xm2\n",
    "            yc = m1*(xc-xm1)+ym1\n",
    "            R  = math.sqrt((xc-x1)**2+(yc-y1)**2)\n",
    "            R = min(R,Inf)\n",
    "            R = math.copysign(R,-m1)\n",
    "        elif y1<>y2 and y3<>y2:\n",
    "            if y3 == y1:\n",
    "                R = Inf\n",
    "            elif y3<>y1:\n",
    "                if (x3-x1)/(y3-y1) == (x2-x1)/(y2-y1):\n",
    "                    R = Inf\n",
    "                else:\n",
    "                    m1 = -(x2-x1)/(y2-y1)\n",
    "                    m2 = -(x3-x2)/(y3-y2)\n",
    "                    xm1 = (x1+x2)/2\n",
    "                    ym1 = (y1+y2)/2\n",
    "                    xm2 = (x3+x2)/2\n",
    "                    ym2 = (y3+y2)/2\n",
    "                    xc = (ym1-ym2+m2*xm2-m1*xm1)/(m2-m1)\n",
    "                    yc = m1*(xc-xm1)+ym1\n",
    "                    R  = math.sqrt((xc-x1)**2+(yc-y1)**2)\n",
    "                    R = min(R,Inf)\n",
    "                    R = math.copysign(R,m2-m1)\n",
    "        return(min(R,Inf))\n",
    "    def Length(P1,P2):\n",
    "        return(math.sqrt((P2[0]-P1[0])**2+(P2[1]-P1[1])**2))\n",
    "    Vertices = json.loads(Shape.JSON)['paths'][0]\n",
    "    R = [0]\n",
    "    M = [Vertices[0][3]]\n",
    "    L = Shape.length\n",
    "    for i in range(2,len(Vertices)):\n",
    "        l1 = Length(Vertices[i-2],Vertices[i-1])\n",
    "        l2 = Length(Vertices[i-1],Vertices[i  ])\n",
    "        #R.append(Radius(Vertices[i-2],Vertices[i-1],Vertices[i]))\n",
    "        R.append(findangle(Vertices[i-2],Vertices[i-1],Vertices[i]))\n",
    "        M.append(Vertices[i-1][3])\n",
    "    R.append(0)\n",
    "    M.append(Vertices[-1][3])\n",
    "    return({'Radius':R,'Milepost':M})"
   ]
  },
  {
   "cell_type": "code",
   "execution_count": 12,
   "metadata": {
    "scrolled": true
   },
   "outputs": [
    {
     "name": "stdout",
     "output_type": "stream",
     "text": [
      "100%"
     ]
    }
   ],
   "source": [
    "arcpy.Delete_management(IRIS_N)\n",
    "arcpy.CreateTable_management(out_path=os.path.dirname(IRIS_N),out_name=os.path.basename(IRIS_N))\n",
    "arcpy.AddField_management(IRIS_N,'INVENTORY','TEXT')\n",
    "arcpy.AddField_management(IRIS_N,'BEG_STA','DOUBLE')\n",
    "arcpy.AddField_management(IRIS_N,'END_STA','DOUBLE')\n",
    "arcpy.AddField_management(IRIS_N,'Radius','DOUBLE')\n",
    "arcpy.AddField_management(IRIS_N,'Center_X','DOUBLE')\n",
    "arcpy.AddField_management(IRIS_N,'Center_Y','DOUBLE')\n",
    "INV = {r.getValue('INVENTORY'):r.getValue('Shape') for r in arcpy.SearchCursor(IRIS)}\n",
    "IC = arcpy.InsertCursor(IRIS_N)\n",
    "desd = 150\n",
    "for inv in INV.keys():\n",
    "    l = json.loads(INV[inv].JSON)['paths'][0]\n",
    "    if not None in [p[3] for p in l]:\n",
    "        pntl = AddMidPoints(l,desd) \n",
    "        a = arcpy.Array(pntl)\n",
    "        pl = arcpy.Polyline(a,arcpy.SpatialReference(102672),True,True)\n",
    "        Curve = FindCurves(pl,DegMin=3,RMax=900,RMin=50,LenMin=100/5280)\n",
    "        for cur in Curve:\n",
    "            r = IC.newRow()\n",
    "            r.setValue('INVENTORY',inv)\n",
    "            r.setValue('BEG_STA',cur[0])\n",
    "            r.setValue('END_STA',cur[1])\n",
    "            r.setValue('Radius',cur[2])\n",
    "            r.setValue('Center_X',cur[3])\n",
    "            r.setValue('Center_Y',cur[4])\n",
    "            IC.insertRow(r) \n",
    "    progressBar(INV.keys().index(inv),len(INV))\n",
    "del IC\n",
    "del r"
   ]
  },
  {
   "cell_type": "code",
   "execution_count": 4,
   "metadata": {},
   "outputs": [
    {
     "name": "stdout",
     "output_type": "stream",
     "text": [
      "Our Curve Layer: Total Length 13,260, Average \n",
      "13008.3790065\n"
     ]
    }
   ],
   "source": [
    "CHCurves = r'\\\\CHCFPP01\\Proj\\ILDOT\\650511SAFETYPROGRAM\\7_BaseData\\Master_BaseFiles_Data\\8.0_Curves_Layer\\Extracting_Curves_From_Routes\\HCurves2016.shp'\n",
    "IDOTCurves = r'\\\\CHCFPP01\\Proj\\ILDOT\\650511SAFETYPROGRAM\\7_BaseData\\Master_BaseFiles_Data\\8.0_Curves_Layer\\IL_SegmentCurves.mdb\\Curves_Filtered_CH2M_Additions'\n",
    "l1 = [r.getValue('Shape').length/5280 for r in arcpy.SearchCursor(CHCurves)]\n",
    "l2 = [r.getValue('Shape').length/5280 for r in arcpy.SearchCursor(IDOTCurves)]\n",
    "r1 = [abs(r.getValue('Radius')) for r in arcpy.SearchCursor(CHCurves)]\n",
    "r2 = [r.getValue('avgRadius') for r in arcpy.SearchCursor(IDOTCurves)]\n",
    "print('Our Curve Layer: Total Length {:0,.0f}, Average '.format(sum(l1)))\n",
    "print(sum(l2))"
   ]
  },
  {
   "cell_type": "code",
   "execution_count": 5,
   "metadata": {},
   "outputs": [
    {
     "data": {
      "text/plain": [
       "379.49818698040275"
      ]
     },
     "execution_count": 5,
     "metadata": {},
     "output_type": "execute_result"
    }
   ],
   "source": [
    "sum(r1)/len(r1)"
   ]
  },
  {
   "cell_type": "code",
   "execution_count": 6,
   "metadata": {},
   "outputs": [
    {
     "data": {
      "text/plain": [
       "566.4342708407613"
      ]
     },
     "execution_count": 6,
     "metadata": {},
     "output_type": "execute_result"
    }
   ],
   "source": [
    "sum(r2)/len(r2)"
   ]
  }
 ],
 "metadata": {
  "kernelspec": {
   "display_name": "Python 2",
   "language": "python",
   "name": "python2"
  },
  "language_info": {
   "codemirror_mode": {
    "name": "ipython",
    "version": 2
   },
   "file_extension": ".py",
   "mimetype": "text/x-python",
   "name": "python",
   "nbconvert_exporter": "python",
   "pygments_lexer": "ipython2",
   "version": "2.7.14"
  }
 },
 "nbformat": 4,
 "nbformat_minor": 2
}
