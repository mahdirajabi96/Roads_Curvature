{
 "cells": [
  {
   "cell_type": "code",
   "execution_count": 1,
   "metadata": {},
   "outputs": [],
   "source": [
    "IRIS = r'C:\\Users\\mr068144\\Downloads\\IRIS\\IDOT Zip Files\\HWY2016_route.shp'\n",
    "Path = r'C:\\Users\\mr068144\\Downloads\\Curvature'\n",
    "HSMPY_PATH = r'C:\\Users\\MR068144\\Downloads\\Python Scripts'\n",
    "# importing required packages\n",
    "import sys, os, arcpy, csv, json, math\n",
    "sys.path.append(HSMPY_PATH)\n",
    "import hsmpy\n",
    "import arcpy\n",
    "import shutil\n",
    "import os\n",
    "import json\n",
    "import pandas as pd\n",
    "import numpy as np\n",
    "import matplotlib.pyplot as plt\n",
    "GDB = os.path.join(Path,'Scratch.gdb')\n",
    "IRIS_N = GDB + '\\\\HorCurves2016_CMF'\n",
    "IRIS_C = GDB + '\\\\HC2016_CMF'"
   ]
  },
  {
   "cell_type": "code",
   "execution_count": null,
   "metadata": {},
   "outputs": [],
   "source": [
    "if os.path.exists(os.path.join(Path,'Scratch.gdb')):\n",
    "    shutil.rmtree(os.path.join(Path,'Scratch.gdb'))\n",
    "arcpy.CreateFileGDB_management(out_folder_path=Path,out_name='Scratch')"
   ]
  },
  {
   "cell_type": "code",
   "execution_count": 2,
   "metadata": {},
   "outputs": [
    {
     "name": "stdout",
     "output_type": "stream",
     "text": [
      "100%"
     ]
    }
   ],
   "source": [
    "arcpy.Delete_management(IRIS_N)\n",
    "hsmpy.network.ExtractCurves(inp=IRIS,IDField='INVENTORY',DegMin=2,RMax=5280,RMin=10,LenMin=1000,desd=1000, out=IRIS_N)"
   ]
  },
  {
   "cell_type": "code",
   "execution_count": 3,
   "metadata": {},
   "outputs": [],
   "source": [
    "arcpy.Delete_management(IRIS_C)\n",
    "F = ['Radius','Center_X','Center_Y','CMF_CH10','CMF_CH18']\n",
    "hsmpy.network.CreateRouteEventLayer(Sites_Routes=IRIS,AttTable=IRIS_N,BMP='BEG_STA',EMP='END_STA',RouteID='INVENTORY',Fields=F,Output=IRIS_C)"
   ]
  },
  {
   "cell_type": "code",
   "execution_count": null,
   "metadata": {},
   "outputs": [],
   "source": [
    "CHCurves = r'\\\\CHCFPP01\\Proj\\ILDOT\\650511SAFETYPROGRAM\\7_BaseData\\Master_BaseFiles_Data\\8.0_Curves_Layer\\Extracting_Curves_From_Routes\\HCurves2016.shp'\n",
    "IDOTCurves = r'\\\\CHCFPP01\\Proj\\ILDOT\\650511SAFETYPROGRAM\\7_BaseData\\Master_BaseFiles_Data\\8.0_Curves_Layer\\IL_SegmentCurves.mdb\\Curves_Filtered_CH2M_Additions'\n",
    "l1 = [r.getValue('Shape').length/5280 for r in arcpy.SearchCursor(CHCurves)]\n",
    "l2 = [r.getValue('Shape').length/5280 for r in arcpy.SearchCursor(IDOTCurves)]\n",
    "r1 = [abs(r.getValue('Radius')) for r in arcpy.SearchCursor(CHCurves)]\n",
    "r2 = [r.getValue('avgRadius') for r in arcpy.SearchCursor(IDOTCurves)]\n",
    "print('Our Curve Layer: Total Length {:0,.0f}, Average '.format(sum(l1)))\n",
    "print(sum(l2))"
   ]
  },
  {
   "cell_type": "code",
   "execution_count": 6,
   "metadata": {},
   "outputs": [],
   "source": [
    "import atexit"
   ]
  },
  {
   "cell_type": "code",
   "execution_count": null,
   "metadata": {},
   "outputs": [],
   "source": [
    "sum(r1)/len(r1)"
   ]
  },
  {
   "cell_type": "code",
   "execution_count": null,
   "metadata": {},
   "outputs": [],
   "source": [
    "sum(r2)/len(r2)"
   ]
  }
 ],
 "metadata": {
  "kernelspec": {
   "display_name": "Python 2",
   "language": "python",
   "name": "python2"
  },
  "language_info": {
   "codemirror_mode": {
    "name": "ipython",
    "version": 2
   },
   "file_extension": ".py",
   "mimetype": "text/x-python",
   "name": "python",
   "nbconvert_exporter": "python",
   "pygments_lexer": "ipython2",
   "version": "2.7.14"
  }
 },
 "nbformat": 4,
 "nbformat_minor": 2
}
